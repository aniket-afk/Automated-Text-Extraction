{
  "cells": [
    {
      "cell_type": "markdown",
      "metadata": {
        "id": "UiXL3_Uj_uV1"
      },
      "source": [
        "# Architecture Diagram"
      ]
    },
    {
      "cell_type": "markdown",
      "metadata": {
        "id": "xe-2bg0O_lfL"
      },
      "source": [
        "This code creates a **system architecture diagram** using the `diagrams` library, which visualizes the flow and components involved in a complex system with **frontend**, **backend**, **database**, **orchestration pipelines**, and **external services**. Here's a breakdown:\n",
        "\n",
        "1. **User Access**:\n",
        "   - The diagram starts with a **User** interacting with the **Streamlit frontend**.\n",
        "\n",
        "2. **Frontend Cluster**:\n",
        "   - The **Frontend** section contains a **Streamlit server**. The user interacts with Streamlit, which passes API calls to the backend.\n",
        "\n",
        "3. **Backend (FastAPI) Cluster**:\n",
        "   - The **FastAPI server** handles the backend logic, including processing user requests and interacting with other services. It also connects to **Swagger UI**, a tool for API documentation and testing.\n",
        "\n",
        "4. **Database**:\n",
        "   - A **PostgreSQL database** stores user credentials and any PDF data. The FastAPI server uses a **SQL API Key** to interact with the database.\n",
        "\n",
        "5. **Airflow Pipeline**:\n",
        "   - **Airflow** orchestrates the data pipeline for handling PDF extraction tasks. It connects to external services that handle the extraction.\n",
        "\n",
        "6. **PDF Extraction Cluster**:\n",
        "   - Two tools are responsible for extracting text from PDFs:\n",
        "     - **PyPDF**: A Python library for working with PDF files.\n",
        "     - **OpenAI Text Extractor**: A service that uses OpenAI's API for extracting and processing text from PDFs.\n",
        "\n",
        "7. **AWS S3 Storage**:\n",
        "   - Extracted data from the PDF services is stored in **AWS S3**, with communication secured using an **S3 API Key**.\n",
        "\n",
        "8. **OpenAI API**:\n",
        "   - A generic compute service representing the **OpenAI API** is used for fetching answers or performing tasks like text generation. FastAPI sends queries to OpenAI, and the responses are forwarded back to the frontend.\n",
        "\n",
        "9. **Data Flow and Communication**:\n",
        "   - The arrows and edges depict how data flows between components, with **API keys** used for authentication and security at various stages. For example:\n",
        "     - The user interacts with Streamlit, which sends API requests (secured via JWT authentication) to FastAPI.\n",
        "     - FastAPI communicates with the database (using an SQL API key), Airflow (via Airflow API key), and OpenAI (fetching answers from the API).\n",
        "     - Extracted PDF content is stored in S3, and the OpenAI API is also used for text extraction.\n",
        "\n",
        "This diagram provides a clear overview of how different components—**frontend, backend, storage, and external services**—work together in a data-driven architecture."
      ]
    },
    {
      "cell_type": "code",
      "execution_count": 1,
      "metadata": {
        "colab": {
          "base_uri": "https://localhost:8080/"
        },
        "id": "wWFcs0S46i7t",
        "outputId": "8005886a-5bc3-4002-92f2-a0a58159657a"
      },
      "outputs": [
        {
          "name": "stdout",
          "output_type": "stream",
          "text": [
            "Defaulting to user installation because normal site-packages is not writeable\n",
            "Collecting diagrams\n",
            "  Using cached diagrams-0.23.4-py3-none-any.whl (24.6 MB)\n",
            "Requirement already satisfied: jinja2<4.0,>=2.10 in c:\\users\\hp\\appdata\\roaming\\python\\python39\\site-packages (from diagrams) (3.1.4)\n",
            "Collecting typed-ast<2.0.0,>=1.5.4\n",
            "  Using cached typed_ast-1.5.5-cp39-cp39-win_amd64.whl (139 kB)\n",
            "Collecting graphviz<0.21.0,>=0.13.2\n",
            "  Downloading graphviz-0.20.3-py3-none-any.whl (47 kB)\n",
            "Requirement already satisfied: MarkupSafe>=2.0 in c:\\users\\hp\\appdata\\roaming\\python\\python39\\site-packages (from jinja2<4.0,>=2.10->diagrams) (2.1.5)\n",
            "Installing collected packages: typed-ast, graphviz, diagrams\n",
            "Successfully installed diagrams-0.23.4 graphviz-0.20.3 typed-ast-1.5.5\n"
          ]
        },
        {
          "name": "stderr",
          "output_type": "stream",
          "text": [
            "WARNING: You are using pip version 21.1.3; however, version 24.2 is available.\n",
            "You should consider upgrading via the 'c:\\program files\\python39\\python.exe -m pip install --upgrade pip' command.\n"
          ]
        }
      ],
      "source": [
        "!pip install diagrams\n"
      ]
    },
    {
      "cell_type": "code",
      "execution_count": 2,
      "metadata": {
        "colab": {
          "base_uri": "https://localhost:8080/"
        },
        "id": "7hFugdJhpCKW",
        "outputId": "06e68ef6-f59c-4602-b852-bcb90ba5e1f3"
      },
      "outputs": [
        {
          "name": "stdout",
          "output_type": "stream",
          "text": [
            "Defaulting to user installation because normal site-packages is not writeable\n",
            "Requirement already satisfied: Pillow in c:\\users\\hp\\appdata\\roaming\\python\\python39\\site-packages (10.4.0)\n",
            "Note: you may need to restart the kernel to use updated packages.\n"
          ]
        },
        {
          "name": "stderr",
          "output_type": "stream",
          "text": [
            "WARNING: You are using pip version 21.1.3; however, version 24.2 is available.\n",
            "You should consider upgrading via the 'c:\\Program Files\\Python39\\python.exe -m pip install --upgrade pip' command.\n"
          ]
        }
      ],
      "source": [
        "pip install Pillow\n"
      ]
    },
    {
      "cell_type": "code",
      "execution_count": 3,
      "metadata": {
        "colab": {
          "base_uri": "https://localhost:8080/"
        },
        "id": "YSlowHOTpEVe",
        "outputId": "5880b427-c7ad-4a7b-c334-5a21eb977b89"
      },
      "outputs": [
        {
          "name": "stdout",
          "output_type": "stream",
          "text": [
            "f:\\NORTHEASTERN\\DAMG 7245\\Git Repo\\Assignment2\\Automated Text Extraction\\ArchitectureDiagram\n"
          ]
        }
      ],
      "source": [
        "import os\n",
        "print(os.getcwd())  # Prints the current working directory\n",
        "\n"
      ]
    },
    {
      "cell_type": "code",
      "execution_count": 4,
      "metadata": {
        "colab": {
          "base_uri": "https://localhost:8080/"
        },
        "id": "E3cMq9-ypzoY",
        "outputId": "f3ae05cf-4f92-46e0-8bc1-b3471c4c1a25"
      },
      "outputs": [
        {
          "name": "stdout",
          "output_type": "stream",
          "text": [
            "['ArchitectureDiagramCode.ipynb']\n"
          ]
        }
      ],
      "source": [
        "import os\n",
        "print(os.listdir())  # List all files in the current directory\n"
      ]
    },
    {
      "cell_type": "code",
      "execution_count": 5,
      "metadata": {
        "colab": {
          "base_uri": "https://localhost:8080/"
        },
        "id": "nFzP5hThrOvv",
        "outputId": "a62320be-84cd-4cd7-abd4-036483bee444"
      },
      "outputs": [
        {
          "name": "stdout",
          "output_type": "stream",
          "text": [
            "['ArchitectureDiagramCode.ipynb']\n"
          ]
        }
      ],
      "source": [
        "import os\n",
        "print(os.listdir())  # List files in the directory\n"
      ]
    },
    {
      "cell_type": "code",
      "execution_count": 6,
      "metadata": {
        "colab": {
          "base_uri": "https://localhost:8080/",
          "height": 17
        },
        "id": "1TrVfBV9rRot",
        "outputId": "b7a72daf-914f-413a-d93e-9f2a648d4b45"
      },
      "outputs": [
        {
          "ename": "ModuleNotFoundError",
          "evalue": "No module named 'google.colab'",
          "output_type": "error",
          "traceback": [
            "\u001b[1;31m---------------------------------------------------------------------------\u001b[0m",
            "\u001b[1;31mModuleNotFoundError\u001b[0m                       Traceback (most recent call last)",
            "Cell \u001b[1;32mIn[6], line 1\u001b[0m\n\u001b[1;32m----> 1\u001b[0m \u001b[38;5;28;01mfrom\u001b[39;00m \u001b[38;5;21;01mgoogle\u001b[39;00m\u001b[38;5;21;01m.\u001b[39;00m\u001b[38;5;21;01mcolab\u001b[39;00m \u001b[38;5;28;01mimport\u001b[39;00m files\n\u001b[0;32m      2\u001b[0m files\u001b[38;5;241m.\u001b[39mdownload(\u001b[38;5;124m\"\u001b[39m\u001b[38;5;124mcomplex_architecture_diagram_openai_explicit.png\u001b[39m\u001b[38;5;124m\"\u001b[39m)\n",
            "\u001b[1;31mModuleNotFoundError\u001b[0m: No module named 'google.colab'"
          ]
        }
      ],
      "source": [
        "from google.colab import files\n",
        "files.download(\"complex_architecture_diagram_openai_explicit.png\")\n"
      ]
    },
    {
      "cell_type": "code",
      "execution_count": 2,
      "metadata": {
        "colab": {
          "base_uri": "https://localhost:8080/"
        },
        "id": "nApNpx6rcV5g",
        "outputId": "a2ce176b-101e-4c0e-ba92-9d12df23524e"
      },
      "outputs": [
        {
          "name": "stdout",
          "output_type": "stream",
          "text": [
            "Collecting diagrams\n",
            "  Downloading diagrams-0.23.4-py3-none-any.whl.metadata (7.0 kB)\n",
            "Requirement already satisfied: graphviz<0.21.0,>=0.13.2 in /usr/local/lib/python3.10/dist-packages (from diagrams) (0.20.3)\n",
            "Requirement already satisfied: jinja2<4.0,>=2.10 in /usr/local/lib/python3.10/dist-packages (from diagrams) (3.1.4)\n",
            "Collecting typed-ast<2.0.0,>=1.5.4 (from diagrams)\n",
            "  Downloading typed_ast-1.5.5-cp310-cp310-manylinux_2_17_x86_64.manylinux2014_x86_64.whl.metadata (1.7 kB)\n",
            "Requirement already satisfied: MarkupSafe>=2.0 in /usr/local/lib/python3.10/dist-packages (from jinja2<4.0,>=2.10->diagrams) (2.1.5)\n",
            "Downloading diagrams-0.23.4-py3-none-any.whl (24.6 MB)\n",
            "\u001b[2K   \u001b[90m━━━━━━━━━━━━━━━━━━━━━━━━━━━━━━━━━━━━━━━━\u001b[0m \u001b[32m24.6/24.6 MB\u001b[0m \u001b[31m68.2 MB/s\u001b[0m eta \u001b[36m0:00:00\u001b[0m\n",
            "\u001b[?25hDownloading typed_ast-1.5.5-cp310-cp310-manylinux_2_17_x86_64.manylinux2014_x86_64.whl (824 kB)\n",
            "\u001b[2K   \u001b[90m━━━━━━━━━━━━━━━━━━━━━━━━━━━━━━━━━━━━━━━━\u001b[0m \u001b[32m824.7/824.7 kB\u001b[0m \u001b[31m41.4 MB/s\u001b[0m eta \u001b[36m0:00:00\u001b[0m\n",
            "\u001b[?25hInstalling collected packages: typed-ast, diagrams\n",
            "Successfully installed diagrams-0.23.4 typed-ast-1.5.5\n"
          ]
        }
      ],
      "source": [
        "!pip install diagrams\n"
      ]
    },
    {
      "cell_type": "code",
      "execution_count": 6,
      "metadata": {
        "id": "VIN_GSLut_Dh"
      },
      "outputs": [],
      "source": [
        "\n",
        "\n",
        "from diagrams import Diagram, Cluster, Edge\n",
        "from diagrams.aws.storage import S3\n",
        "from diagrams.onprem.client import User\n",
        "from diagrams.onprem.compute import Server\n",
        "from diagrams.onprem.database import PostgreSQL\n",
        "from diagrams.onprem.workflow import Airflow\n",
        "from diagrams.programming.flowchart import Document\n",
        "from diagrams.generic.compute import Rack  # Use generic compute service for OpenAI\n",
        "\n",
        "# Create the diagram with a specific filename\n",
        "with Diagram(\"complex_architecture_diagram_openai_explicit2\", show=False, outformat=\"png\"):\n",
        "    # User accessing the frontend\n",
        "    user = User(\"User\")\n",
        "\n",
        "    # Streamlit frontend cluster\n",
        "    with Cluster(\"Frontend\"):\n",
        "        frontend = Server(\"Streamlit\")\n",
        "\n",
        "    # FastAPI backend cluster\n",
        "    with Cluster(\"Backend (FastAPI)\"):\n",
        "        fastapi = Server(\"FastAPI\")\n",
        "        swagger = Server(\"Swagger UI\")\n",
        "\n",
        "    # Database for storing user credentials and PDF data\n",
        "    database = PostgreSQL(\"SQL Database\")\n",
        "\n",
        "    # Airflow for pipeline orchestration\n",
        "    airflow = Airflow(\"Airflow Pipeline\")\n",
        "\n",
        "    # PDF Extraction services (Pypdf, OpenAI Text Extractor)\n",
        "    with Cluster(\"PDF Extraction\"):\n",
        "        pypdf = Document(\"PyPDF\")\n",
        "        openai_text = Document(\"OpenAI Text Extractor\")\n",
        "\n",
        "    # Cloud storage (S3)\n",
        "    s3_storage = S3(\"AWS S3\")\n",
        "\n",
        "    # Generic service representing OpenAI API\n",
        "    openai_service = Rack(\"OpenAI API\")\n",
        "\n",
        "    # Data flow with API key descriptions\n",
        "    user >> frontend >> Edge(label=\"API Key: JWT Auth\") >> fastapi >> Edge(label=\"SQL API Key\") >> database\n",
        "    frontend >> swagger\n",
        "    fastapi >> Edge(label=\"Airflow API Key\") >> airflow\n",
        "    airflow >> [pypdf, openai_text] >> Edge(label=\"S3 API Key\") >> s3_storage\n",
        "    fastapi >> Edge(label=\"Fetch Answer from OpenAI\") >> openai_service\n",
        "    openai_service >> Edge(label=\"Use FastAPI to Streamlit\") >> frontend\n",
        "\n",
        "    # Adding arrow from OpenAI API to OpenAI Text Extractor\n",
        "    openai_service >> Edge(label=\"Text Extraction\") >> openai_text\n"
      ]
    },
    {
      "cell_type": "code",
      "execution_count": 7,
      "metadata": {
        "colab": {
          "base_uri": "https://localhost:8080/",
          "height": 17
        },
        "id": "_5BASLfkuA80",
        "outputId": "f3fb5c56-d57c-4698-8870-7ff56c46b2b8"
      },
      "outputs": [
        {
          "data": {
            "application/javascript": "\n    async function download(id, filename, size) {\n      if (!google.colab.kernel.accessAllowed) {\n        return;\n      }\n      const div = document.createElement('div');\n      const label = document.createElement('label');\n      label.textContent = `Downloading \"${filename}\": `;\n      div.appendChild(label);\n      const progress = document.createElement('progress');\n      progress.max = size;\n      div.appendChild(progress);\n      document.body.appendChild(div);\n\n      const buffers = [];\n      let downloaded = 0;\n\n      const channel = await google.colab.kernel.comms.open(id);\n      // Send a message to notify the kernel that we're ready.\n      channel.send({})\n\n      for await (const message of channel.messages) {\n        // Send a message to notify the kernel that we're ready.\n        channel.send({})\n        if (message.buffers) {\n          for (const buffer of message.buffers) {\n            buffers.push(buffer);\n            downloaded += buffer.byteLength;\n            progress.value = downloaded;\n          }\n        }\n      }\n      const blob = new Blob(buffers, {type: 'application/binary'});\n      const a = document.createElement('a');\n      a.href = window.URL.createObjectURL(blob);\n      a.download = filename;\n      div.appendChild(a);\n      a.click();\n      div.remove();\n    }\n  ",
            "text/plain": [
              "<IPython.core.display.Javascript object>"
            ]
          },
          "metadata": {},
          "output_type": "display_data"
        },
        {
          "data": {
            "application/javascript": "download(\"download_6680629e-2f71-42bb-b7f3-df3c5b8f4ed8\", \"complex_architecture_diagram_openai_explicit2.png\", 155439)",
            "text/plain": [
              "<IPython.core.display.Javascript object>"
            ]
          },
          "metadata": {},
          "output_type": "display_data"
        }
      ],
      "source": [
        "----------\n",
        "from google.colab import files\n",
        "files.download(\"complex_architecture_diagram_openai_explicit2.png\")"
      ]
    },
    {
      "cell_type": "code",
      "execution_count": 6,
      "metadata": {
        "id": "mReKeUGsc1gh"
      },
      "outputs": [],
      "source": [
        "from diagrams import Diagram, Cluster, Edge\n",
        "from diagrams.aws.storage import S3\n",
        "from diagrams.onprem.client import User\n",
        "from diagrams.onprem.compute import Server\n",
        "from diagrams.onprem.database import PostgreSQL\n",
        "from diagrams.onprem.workflow import Airflow\n",
        "from diagrams.programming.flowchart import Document\n",
        "from diagrams.generic.compute import Rack\n",
        "from diagrams.custom import Custom  # Import Custom for using logo\n",
        "\n",
        "# Path to the OpenAI logo image (ensure it's in the correct directory)\n",
        "openai_logo_path = \"openai_logo.png\"\n",
        "\n",
        "# Create the diagram with a specific filename\n",
        "with Diagram(\"complex_architecture_diagram_openai_explicit3\", show=False, outformat=\"png\"):\n",
        "    # User accessing the frontend\n",
        "    user = User(\"User\")\n",
        "\n",
        "    # Streamlit frontend cluster\n",
        "    with Cluster(\"Frontend\"):\n",
        "        frontend = Server(\"Streamlit\")\n",
        "\n",
        "    # FastAPI backend cluster\n",
        "    with Cluster(\"Backend (FastAPI)\"):\n",
        "        fastapi = Server(\"FastAPI\")\n",
        "        swagger = Server(\"Swagger UI\")\n",
        "\n",
        "    # Database for storing user credentials and PDF data\n",
        "    database = PostgreSQL(\"SQL Database\")\n",
        "\n",
        "    # Airflow for pipeline orchestration\n",
        "    airflow = Airflow(\"Airflow Pipeline\")\n",
        "\n",
        "    # PDF Extraction services (Pypdf, OpenAI Text Extractor)\n",
        "    with Cluster(\"PDF Extraction\"):\n",
        "        pypdf = Document(\"PyPDF\")\n",
        "        openai_text = Document(\"OpenAI Text Extractor\")\n",
        "\n",
        "    # Cloud storage (S3)\n",
        "    s3_storage = S3(\"AWS S3\")\n",
        "\n",
        "    # OpenAI API node with custom logo\n",
        "    openai_service = Custom(\"OpenAI API\", openai_logo_path)\n",
        "\n",
        "    # Data flow with API key descriptions\n",
        "    user >> frontend >> Edge(label=\"API Key: JWT Auth\") >> fastapi >> Edge(label=\"SQL API Key\") >> database\n",
        "    frontend >> swagger\n",
        "    fastapi >> Edge(label=\"Airflow API Key\") >> airflow\n",
        "    airflow >> [pypdf, openai_text] >> Edge(label=\"S3 API Key\") >> s3_storage\n",
        "    fastapi >> Edge(label=\"Fetch Answer from OpenAI\") >> openai_service\n",
        "    openai_service >> Edge(label=\"Use FastAPI to Streamlit\") >> frontend\n",
        "\n",
        "    # Adding arrow from OpenAI API to OpenAI Text Extractor\n",
        "    openai_service >> Edge(label=\"Text Extraction\") >> openai_text\n"
      ]
    }
  ],
  "metadata": {
    "colab": {
      "provenance": []
    },
    "kernelspec": {
      "display_name": "Python 3",
      "name": "python3"
    },
    "language_info": {
      "codemirror_mode": {
        "name": "ipython",
        "version": 3
      },
      "file_extension": ".py",
      "mimetype": "text/x-python",
      "name": "python",
      "nbconvert_exporter": "python",
      "pygments_lexer": "ipython3",
      "version": "3.9.6"
    }
  },
  "nbformat": 4,
  "nbformat_minor": 0
}
